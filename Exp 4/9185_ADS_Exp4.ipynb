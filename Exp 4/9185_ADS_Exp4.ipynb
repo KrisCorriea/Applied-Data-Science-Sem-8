{
  "nbformat": 4,
  "nbformat_minor": 0,
  "metadata": {
    "colab": {
      "provenance": []
    },
    "kernelspec": {
      "name": "python3",
      "display_name": "Python 3"
    },
    "language_info": {
      "name": "python"
    }
  },
  "cells": [
    {
      "cell_type": "code",
      "source": [
        "print(california_housing.columns)\n"
      ],
      "metadata": {
        "colab": {
          "base_uri": "https://localhost:8080/"
        },
        "id": "ymmFMvFmXhWc",
        "outputId": "ac0ffa41-4809-4a7e-8115-17110eeea3ca"
      },
      "execution_count": 2,
      "outputs": [
        {
          "output_type": "stream",
          "name": "stdout",
          "text": [
            "Index(['Median_House_Value', 'Median_Income', 'Median_Age', 'Tot_Rooms',\n",
            "       'Tot_Bedrooms', 'Population', 'Households', 'Latitude', 'Longitude',\n",
            "       'Distance_to_coast', 'Distance_to_LA', 'Distance_to_SanDiego',\n",
            "       'Distance_to_SanJose', 'Distance_to_SanFrancisco'],\n",
            "      dtype='object')\n"
          ]
        }
      ]
    },
    {
      "cell_type": "code",
      "execution_count": 4,
      "metadata": {
        "colab": {
          "base_uri": "https://localhost:8080/"
        },
        "id": "vdz5LKMMYrIG",
        "outputId": "77c48d65-3c29-489b-fd2d-b2b9a3e23338"
      },
      "outputs": [
        {
          "output_type": "stream",
          "name": "stdout",
          "text": [
            "Model: Decision Tree\n",
            "Accuracy: 0.8771802325581395\n",
            "\n",
            "Confusion Matrix:\n",
            " [[2853  259]\n",
            " [ 248  768]]\n",
            "\n",
            "Precision: 0.747809152872444\n",
            "\n",
            "Recall: 0.7559055118110236\n",
            "\n",
            "F-Score: 0.7518355359765052\n",
            "\n",
            "AUC-ROC: 0.8363396453656661\n",
            "\n",
            "----------------------------\n",
            "\n",
            "Model: Random Forest\n",
            "Accuracy: 0.9241763565891473\n",
            "\n",
            "Confusion Matrix:\n",
            " [[3010  102]\n",
            " [ 211  805]]\n",
            "\n",
            "Precision: 0.8875413450937155\n",
            "\n",
            "Recall: 0.7923228346456693\n",
            "\n",
            "F-Score: 0.8372334893395735\n",
            "\n",
            "AUC-ROC: 0.9674964387284173\n",
            "\n",
            "----------------------------\n",
            "\n"
          ]
        },
        {
          "output_type": "stream",
          "name": "stderr",
          "text": [
            "/usr/local/lib/python3.10/dist-packages/sklearn/metrics/_classification.py:1344: UndefinedMetricWarning: Precision is ill-defined and being set to 0.0 due to no predicted samples. Use `zero_division` parameter to control this behavior.\n",
            "  _warn_prf(average, modifier, msg_start, len(result))\n"
          ]
        },
        {
          "output_type": "stream",
          "name": "stdout",
          "text": [
            "Model: SVM\n",
            "Accuracy: 0.7538759689922481\n",
            "\n",
            "Confusion Matrix:\n",
            " [[3112    0]\n",
            " [1016    0]]\n",
            "\n",
            "Precision: 0.0\n",
            "\n",
            "Recall: 0.0\n",
            "\n",
            "F-Score: 0.0\n",
            "\n",
            "AUC-ROC: 0.8390657892739307\n",
            "\n",
            "----------------------------\n",
            "\n"
          ]
        }
      ],
      "source": [
        "import pandas as pd\n",
        "from sklearn.metrics import accuracy_score, confusion_matrix, precision_score, recall_score, f1_score, roc_auc_score\n",
        "from sklearn.model_selection import train_test_split\n",
        "from sklearn.tree import DecisionTreeClassifier\n",
        "from sklearn.ensemble import RandomForestClassifier\n",
        "from sklearn.svm import SVC\n",
        "\n",
        "# Step 1: Load the dataset\n",
        "california_housing = pd.read_csv('california_housing.csv')\n",
        "\n",
        "# Step 2: Prepare the data\n",
        "# Assuming 'median_house_value' is the target variable (binary classification task)\n",
        "X = california_housing.drop(columns=['Median_House_Value'])\n",
        "y = (california_housing['Median_House_Value'] > 265000).astype(int)  # Binary classification based on median threshold\n",
        "\n",
        "# Step 3: Split data into train and test sets\n",
        "X_train, X_test, y_train, y_test = train_test_split(X, y, test_size=0.2, random_state=42)\n",
        "\n",
        "# Step 4: Train and evaluate different classification models\n",
        "models = {\n",
        "    \"Decision Tree\": DecisionTreeClassifier(),\n",
        "    \"Random Forest\": RandomForestClassifier(),\n",
        "    \"SVM\": SVC(probability=True)\n",
        "}\n",
        "\n",
        "for model_name, model in models.items():\n",
        "    # Train the model\n",
        "    model.fit(X_train, y_train)\n",
        "\n",
        "    # Predict on the test set\n",
        "    y_pred = model.predict(X_test)\n",
        "\n",
        "    # Calculate evaluation metrics\n",
        "    accuracy = accuracy_score(y_test, y_pred)\n",
        "    conf_matrix = confusion_matrix(y_test, y_pred)\n",
        "    precision = precision_score(y_test, y_pred)\n",
        "    recall = recall_score(y_test, y_pred)\n",
        "    f_score = f1_score(y_test, y_pred)\n",
        "\n",
        "    # AUC-ROC\n",
        "    if hasattr(model, \"predict_proba\"):  # Check if the model has predict_proba method\n",
        "        y_probs = model.predict_proba(X_test)[:, 1]  # Probability of positive class\n",
        "        auc_roc = roc_auc_score(y_test, y_probs)\n",
        "    else:\n",
        "        auc_roc = None\n",
        "\n",
        "    # Display the evaluation metrics\n",
        "    print(f\"Model: {model_name}\")\n",
        "    print(\"Accuracy:\", accuracy)\n",
        "    print(\"\\nConfusion Matrix:\\n\", conf_matrix)\n",
        "    print(\"\\nPrecision:\", precision)\n",
        "    print(\"\\nRecall:\", recall)\n",
        "    print(\"\\nF-Score:\", f_score)\n",
        "    print(\"\\nAUC-ROC:\", auc_roc)\n",
        "    print(\"\\n----------------------------\\n\")\n"
      ]
    },
    {
      "cell_type": "code",
      "source": [
        "import pandas as pd\n",
        "from sklearn.metrics import mean_absolute_error, mean_squared_error, r2_score\n",
        "from sklearn.model_selection import train_test_split\n",
        "from sklearn.linear_model import LinearRegression\n",
        "from sklearn.tree import DecisionTreeRegressor\n",
        "from sklearn.ensemble import RandomForestRegressor\n",
        "from sklearn.svm import SVR\n",
        "\n",
        "# Step 1: Load the dataset\n",
        "california_housing = pd.read_csv('california_housing.csv')\n",
        "\n",
        "# Step 2: Prepare the data\n",
        "# Assuming 'median_house_value' is the target variable\n",
        "X = california_housing.drop(columns=['Median_House_Value'])\n",
        "y = california_housing['Median_House_Value']\n",
        "\n",
        "# Step 3: Split data into train and test sets\n",
        "X_train, X_test, y_train, y_test = train_test_split(X, y, test_size=0.2, random_state=42)\n",
        "\n",
        "# Step 4: Train and evaluate different regression models\n",
        "models = {\n",
        "    \"Linear Regression\": LinearRegression(),\n",
        "    \"Decision Tree\": DecisionTreeRegressor(),\n",
        "    \"Random Forest\": RandomForestRegressor(),\n",
        "    \"SVR\": SVR()\n",
        "}\n",
        "\n",
        "for model_name, model in models.items():\n",
        "    # Train the model\n",
        "    model.fit(X_train, y_train)\n",
        "\n",
        "    # Predict on the test set\n",
        "    y_pred = model.predict(X_test)\n",
        "\n",
        "    # Calculate evaluation metrics\n",
        "    mae = mean_absolute_error(y_test, y_pred)\n",
        "    mse = mean_squared_error(y_test, y_pred)\n",
        "    r2 = r2_score(y_test, y_pred)\n",
        "\n",
        "    # Calculate adjusted R2\n",
        "    n = len(X_test)\n",
        "    p = X_test.shape[1]\n",
        "    adj_r2 = 1 - (1 - r2) * ((n - 1) / (n - p - 1))\n",
        "\n",
        "    # Display the evaluation metrics\n",
        "    print(f\"Model: {model_name}\")\n",
        "    print(\"Mean Absolute Error (MAE):\", mae)\n",
        "    print(\"Mean Squared Error (MSE):\", mse)\n",
        "    print(\"R2 Score:\", r2)\n",
        "    print(\"Adjusted R2:\", adj_r2)\n",
        "    print(\"\\n----------------------------\\n\")\n"
      ],
      "metadata": {
        "colab": {
          "base_uri": "https://localhost:8080/"
        },
        "id": "9smui59xY7fs",
        "outputId": "8a3751d8-995c-48dd-db71-2af589ef6764"
      },
      "execution_count": 5,
      "outputs": [
        {
          "output_type": "stream",
          "name": "stdout",
          "text": [
            "Model: Linear Regression\n",
            "Mean Absolute Error (MAE): 50404.85523916031\n",
            "Mean Squared Error (MSE): 4809839606.897536\n",
            "R2 Score: 0.6329512627916902\n",
            "Adjusted R2: 0.6317914101947754\n",
            "\n",
            "----------------------------\n",
            "\n",
            "Model: Decision Tree\n",
            "Mean Absolute Error (MAE): 40439.717781007756\n",
            "Mean Squared Error (MSE): 4247655637.828246\n",
            "R2 Score: 0.6758526758928101\n",
            "Adjusted R2: 0.6748283892585385\n",
            "\n",
            "----------------------------\n",
            "\n",
            "Model: Random Forest\n",
            "Mean Absolute Error (MAE): 30288.574718992248\n",
            "Mean Squared Error (MSE): 2269211046.500581\n",
            "R2 Score: 0.82683184531086\n",
            "Adjusted R2: 0.8262846440442195\n",
            "\n",
            "----------------------------\n",
            "\n",
            "Model: SVR\n",
            "Mean Absolute Error (MAE): 87322.67310758524\n",
            "Mean Squared Error (MSE): 13741618743.916553\n",
            "R2 Score: -0.048651144191897755\n",
            "Adjusted R2: -0.051964820631978936\n",
            "\n",
            "----------------------------\n",
            "\n"
          ]
        }
      ]
    }
  ]
}